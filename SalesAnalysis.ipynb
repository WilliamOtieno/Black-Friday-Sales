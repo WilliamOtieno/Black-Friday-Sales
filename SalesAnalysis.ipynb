{
 "cells": [
  {
   "cell_type": "markdown",
   "metadata": {},
   "source": [
    "## Black Friday - Sales Analysis ##"
   ]
  },
  {
   "cell_type": "markdown",
   "metadata": {},
   "source": [
    "Top Insights from Black Friday sales report, shared in [Kaggle](https://www.kaggle.com/mehdidag/black-friday).\n",
    "\n",
    "With this data, I will try to answer the following questions\n",
    "1. What all are the products, that have been purchased the most?\n",
    "2. Which product category has been sold the maximum?\n",
    "3. Men or Women, who are likely to spend more in Black Friday Sales?\n",
    "4. Married or Individuals, who spends more?\n",
    "5. Which age group has more interest in these type of sales?"
   ]
  },
  {
   "cell_type": "markdown",
   "metadata": {},
   "source": [
    "#1 Quick Insights about the EDA\n",
    "\n",
    "What is Exploratory Data Analysis? Exploratory analysis is done when you are searching for insights from the data using the plots. More details refer the here"
   ]
  },
  {
   "cell_type": "code",
   "execution_count": 193,
   "metadata": {},
   "outputs": [],
   "source": [
    "#import packages\n",
    "import pandas as pd\n",
    "import numpy as np\n",
    "import matplotlib.pyplot as plt\n",
    "from matplotlib.legend_handler import HandlerBase\n",
    "from matplotlib.text import Text\n",
    "import seaborn as sns\n",
    "%matplotlib inline\n"
   ]
  },
  {
   "cell_type": "code",
   "execution_count": 194,
   "metadata": {},
   "outputs": [],
   "source": [
    "#load the dataset\n",
    "df = pd.read_csv(\"./Data/BlackFriday.csv\")"
   ]
  },
  {
   "cell_type": "code",
   "execution_count": 195,
   "metadata": {},
   "outputs": [
    {
     "data": {
      "text/plain": "(537577, 12)"
     },
     "execution_count": 195,
     "metadata": {},
     "output_type": "execute_result"
    }
   ],
   "source": [
    "df.shape"
   ]
  },
  {
   "cell_type": "markdown",
   "metadata": {},
   "source": [
    "**This data set consist of 537577 rows(observations) with 12 columns (features)**"
   ]
  },
  {
   "cell_type": "code",
   "execution_count": 196,
   "metadata": {},
   "outputs": [
    {
     "data": {
      "text/plain": "            User_ID    Occupation  Marital_Status  Product_Category_1  \\\ncount  5.375770e+05  537577.00000   537577.000000       537577.000000   \nmean   1.002992e+06       8.08271        0.408797            5.295546   \nstd    1.714393e+03       6.52412        0.491612            3.750701   \nmin    1.000001e+06       0.00000        0.000000            1.000000   \n25%    1.001495e+06       2.00000        0.000000            1.000000   \n50%    1.003031e+06       7.00000        0.000000            5.000000   \n75%    1.004417e+06      14.00000        1.000000            8.000000   \nmax    1.006040e+06      20.00000        1.000000           18.000000   \n\n       Product_Category_2  Product_Category_3       Purchase  \ncount       370591.000000       164278.000000  537577.000000  \nmean             9.842144           12.669840    9333.859853  \nstd              5.087259            4.124341    4981.022133  \nmin              2.000000            3.000000     185.000000  \n25%              5.000000            9.000000    5866.000000  \n50%              9.000000           14.000000    8062.000000  \n75%             15.000000           16.000000   12073.000000  \nmax             18.000000           18.000000   23961.000000  ",
      "text/html": "<div>\n<style scoped>\n    .dataframe tbody tr th:only-of-type {\n        vertical-align: middle;\n    }\n\n    .dataframe tbody tr th {\n        vertical-align: top;\n    }\n\n    .dataframe thead th {\n        text-align: right;\n    }\n</style>\n<table border=\"1\" class=\"dataframe\">\n  <thead>\n    <tr style=\"text-align: right;\">\n      <th></th>\n      <th>User_ID</th>\n      <th>Occupation</th>\n      <th>Marital_Status</th>\n      <th>Product_Category_1</th>\n      <th>Product_Category_2</th>\n      <th>Product_Category_3</th>\n      <th>Purchase</th>\n    </tr>\n  </thead>\n  <tbody>\n    <tr>\n      <th>count</th>\n      <td>5.375770e+05</td>\n      <td>537577.00000</td>\n      <td>537577.000000</td>\n      <td>537577.000000</td>\n      <td>370591.000000</td>\n      <td>164278.000000</td>\n      <td>537577.000000</td>\n    </tr>\n    <tr>\n      <th>mean</th>\n      <td>1.002992e+06</td>\n      <td>8.08271</td>\n      <td>0.408797</td>\n      <td>5.295546</td>\n      <td>9.842144</td>\n      <td>12.669840</td>\n      <td>9333.859853</td>\n    </tr>\n    <tr>\n      <th>std</th>\n      <td>1.714393e+03</td>\n      <td>6.52412</td>\n      <td>0.491612</td>\n      <td>3.750701</td>\n      <td>5.087259</td>\n      <td>4.124341</td>\n      <td>4981.022133</td>\n    </tr>\n    <tr>\n      <th>min</th>\n      <td>1.000001e+06</td>\n      <td>0.00000</td>\n      <td>0.000000</td>\n      <td>1.000000</td>\n      <td>2.000000</td>\n      <td>3.000000</td>\n      <td>185.000000</td>\n    </tr>\n    <tr>\n      <th>25%</th>\n      <td>1.001495e+06</td>\n      <td>2.00000</td>\n      <td>0.000000</td>\n      <td>1.000000</td>\n      <td>5.000000</td>\n      <td>9.000000</td>\n      <td>5866.000000</td>\n    </tr>\n    <tr>\n      <th>50%</th>\n      <td>1.003031e+06</td>\n      <td>7.00000</td>\n      <td>0.000000</td>\n      <td>5.000000</td>\n      <td>9.000000</td>\n      <td>14.000000</td>\n      <td>8062.000000</td>\n    </tr>\n    <tr>\n      <th>75%</th>\n      <td>1.004417e+06</td>\n      <td>14.00000</td>\n      <td>1.000000</td>\n      <td>8.000000</td>\n      <td>15.000000</td>\n      <td>16.000000</td>\n      <td>12073.000000</td>\n    </tr>\n    <tr>\n      <th>max</th>\n      <td>1.006040e+06</td>\n      <td>20.00000</td>\n      <td>1.000000</td>\n      <td>18.000000</td>\n      <td>18.000000</td>\n      <td>18.000000</td>\n      <td>23961.000000</td>\n    </tr>\n  </tbody>\n</table>\n</div>"
     },
     "execution_count": 196,
     "metadata": {},
     "output_type": "execute_result"
    }
   ],
   "source": [
    "#Description of the data sets\n",
    "df.describe()"
   ]
  },
  {
   "cell_type": "code",
   "execution_count": 197,
   "metadata": {},
   "outputs": [
    {
     "data": {
      "text/plain": "   User_ID Product_ID Gender   Age  Occupation City_Category  \\\n0  1000001  P00069042      F  0-17          10             A   \n1  1000001  P00248942      F  0-17          10             A   \n2  1000001  P00087842      F  0-17          10             A   \n3  1000001  P00085442      F  0-17          10             A   \n4  1000002  P00285442      M   55+          16             C   \n\n  Stay_In_Current_City_Years  Marital_Status  Product_Category_1  \\\n0                          2               0                   3   \n1                          2               0                   1   \n2                          2               0                  12   \n3                          2               0                  12   \n4                         4+               0                   8   \n\n   Product_Category_2  Product_Category_3  Purchase  \n0                 NaN                 NaN      8370  \n1                 6.0                14.0     15200  \n2                 NaN                 NaN      1422  \n3                14.0                 NaN      1057  \n4                 NaN                 NaN      7969  ",
      "text/html": "<div>\n<style scoped>\n    .dataframe tbody tr th:only-of-type {\n        vertical-align: middle;\n    }\n\n    .dataframe tbody tr th {\n        vertical-align: top;\n    }\n\n    .dataframe thead th {\n        text-align: right;\n    }\n</style>\n<table border=\"1\" class=\"dataframe\">\n  <thead>\n    <tr style=\"text-align: right;\">\n      <th></th>\n      <th>User_ID</th>\n      <th>Product_ID</th>\n      <th>Gender</th>\n      <th>Age</th>\n      <th>Occupation</th>\n      <th>City_Category</th>\n      <th>Stay_In_Current_City_Years</th>\n      <th>Marital_Status</th>\n      <th>Product_Category_1</th>\n      <th>Product_Category_2</th>\n      <th>Product_Category_3</th>\n      <th>Purchase</th>\n    </tr>\n  </thead>\n  <tbody>\n    <tr>\n      <th>0</th>\n      <td>1000001</td>\n      <td>P00069042</td>\n      <td>F</td>\n      <td>0-17</td>\n      <td>10</td>\n      <td>A</td>\n      <td>2</td>\n      <td>0</td>\n      <td>3</td>\n      <td>NaN</td>\n      <td>NaN</td>\n      <td>8370</td>\n    </tr>\n    <tr>\n      <th>1</th>\n      <td>1000001</td>\n      <td>P00248942</td>\n      <td>F</td>\n      <td>0-17</td>\n      <td>10</td>\n      <td>A</td>\n      <td>2</td>\n      <td>0</td>\n      <td>1</td>\n      <td>6.0</td>\n      <td>14.0</td>\n      <td>15200</td>\n    </tr>\n    <tr>\n      <th>2</th>\n      <td>1000001</td>\n      <td>P00087842</td>\n      <td>F</td>\n      <td>0-17</td>\n      <td>10</td>\n      <td>A</td>\n      <td>2</td>\n      <td>0</td>\n      <td>12</td>\n      <td>NaN</td>\n      <td>NaN</td>\n      <td>1422</td>\n    </tr>\n    <tr>\n      <th>3</th>\n      <td>1000001</td>\n      <td>P00085442</td>\n      <td>F</td>\n      <td>0-17</td>\n      <td>10</td>\n      <td>A</td>\n      <td>2</td>\n      <td>0</td>\n      <td>12</td>\n      <td>14.0</td>\n      <td>NaN</td>\n      <td>1057</td>\n    </tr>\n    <tr>\n      <th>4</th>\n      <td>1000002</td>\n      <td>P00285442</td>\n      <td>M</td>\n      <td>55+</td>\n      <td>16</td>\n      <td>C</td>\n      <td>4+</td>\n      <td>0</td>\n      <td>8</td>\n      <td>NaN</td>\n      <td>NaN</td>\n      <td>7969</td>\n    </tr>\n  </tbody>\n</table>\n</div>"
     },
     "execution_count": 197,
     "metadata": {},
     "output_type": "execute_result"
    }
   ],
   "source": [
    "#View first few records\n",
    "df.head()"
   ]
  },
  {
   "cell_type": "code",
   "execution_count": 198,
   "metadata": {},
   "outputs": [
    {
     "data": {
      "text/plain": "        User_ID Product_ID Gender    Age  Occupation City_Category  \\\n537572  1004737  P00193542      M  36-45          16             C   \n537573  1004737  P00111142      M  36-45          16             C   \n537574  1004737  P00345942      M  36-45          16             C   \n537575  1004737  P00285842      M  36-45          16             C   \n537576  1004737  P00118242      M  36-45          16             C   \n\n       Stay_In_Current_City_Years  Marital_Status  Product_Category_1  \\\n537572                          1               0                   1   \n537573                          1               0                   1   \n537574                          1               0                   8   \n537575                          1               0                   5   \n537576                          1               0                   5   \n\n        Product_Category_2  Product_Category_3  Purchase  \n537572                 2.0                 NaN     11664  \n537573                15.0                16.0     19196  \n537574                15.0                 NaN      8043  \n537575                 NaN                 NaN      7172  \n537576                 8.0                 NaN      6875  ",
      "text/html": "<div>\n<style scoped>\n    .dataframe tbody tr th:only-of-type {\n        vertical-align: middle;\n    }\n\n    .dataframe tbody tr th {\n        vertical-align: top;\n    }\n\n    .dataframe thead th {\n        text-align: right;\n    }\n</style>\n<table border=\"1\" class=\"dataframe\">\n  <thead>\n    <tr style=\"text-align: right;\">\n      <th></th>\n      <th>User_ID</th>\n      <th>Product_ID</th>\n      <th>Gender</th>\n      <th>Age</th>\n      <th>Occupation</th>\n      <th>City_Category</th>\n      <th>Stay_In_Current_City_Years</th>\n      <th>Marital_Status</th>\n      <th>Product_Category_1</th>\n      <th>Product_Category_2</th>\n      <th>Product_Category_3</th>\n      <th>Purchase</th>\n    </tr>\n  </thead>\n  <tbody>\n    <tr>\n      <th>537572</th>\n      <td>1004737</td>\n      <td>P00193542</td>\n      <td>M</td>\n      <td>36-45</td>\n      <td>16</td>\n      <td>C</td>\n      <td>1</td>\n      <td>0</td>\n      <td>1</td>\n      <td>2.0</td>\n      <td>NaN</td>\n      <td>11664</td>\n    </tr>\n    <tr>\n      <th>537573</th>\n      <td>1004737</td>\n      <td>P00111142</td>\n      <td>M</td>\n      <td>36-45</td>\n      <td>16</td>\n      <td>C</td>\n      <td>1</td>\n      <td>0</td>\n      <td>1</td>\n      <td>15.0</td>\n      <td>16.0</td>\n      <td>19196</td>\n    </tr>\n    <tr>\n      <th>537574</th>\n      <td>1004737</td>\n      <td>P00345942</td>\n      <td>M</td>\n      <td>36-45</td>\n      <td>16</td>\n      <td>C</td>\n      <td>1</td>\n      <td>0</td>\n      <td>8</td>\n      <td>15.0</td>\n      <td>NaN</td>\n      <td>8043</td>\n    </tr>\n    <tr>\n      <th>537575</th>\n      <td>1004737</td>\n      <td>P00285842</td>\n      <td>M</td>\n      <td>36-45</td>\n      <td>16</td>\n      <td>C</td>\n      <td>1</td>\n      <td>0</td>\n      <td>5</td>\n      <td>NaN</td>\n      <td>NaN</td>\n      <td>7172</td>\n    </tr>\n    <tr>\n      <th>537576</th>\n      <td>1004737</td>\n      <td>P00118242</td>\n      <td>M</td>\n      <td>36-45</td>\n      <td>16</td>\n      <td>C</td>\n      <td>1</td>\n      <td>0</td>\n      <td>5</td>\n      <td>8.0</td>\n      <td>NaN</td>\n      <td>6875</td>\n    </tr>\n  </tbody>\n</table>\n</div>"
     },
     "execution_count": 198,
     "metadata": {},
     "output_type": "execute_result"
    }
   ],
   "source": [
    "#view last few records\n",
    "df.tail()"
   ]
  },
  {
   "cell_type": "code",
   "execution_count": 199,
   "metadata": {},
   "outputs": [
    {
     "name": "stdout",
     "output_type": "stream",
     "text": [
      "<class 'pandas.core.frame.DataFrame'>\n",
      "RangeIndex: 537577 entries, 0 to 537576\n",
      "Data columns (total 12 columns):\n",
      " #   Column                      Non-Null Count   Dtype  \n",
      "---  ------                      --------------   -----  \n",
      " 0   User_ID                     537577 non-null  int64  \n",
      " 1   Product_ID                  537577 non-null  object \n",
      " 2   Gender                      537577 non-null  object \n",
      " 3   Age                         537577 non-null  object \n",
      " 4   Occupation                  537577 non-null  int64  \n",
      " 5   City_Category               537577 non-null  object \n",
      " 6   Stay_In_Current_City_Years  537577 non-null  object \n",
      " 7   Marital_Status              537577 non-null  int64  \n",
      " 8   Product_Category_1          537577 non-null  int64  \n",
      " 9   Product_Category_2          370591 non-null  float64\n",
      " 10  Product_Category_3          164278 non-null  float64\n",
      " 11  Purchase                    537577 non-null  int64  \n",
      "dtypes: float64(2), int64(5), object(5)\n",
      "memory usage: 49.2+ MB\n"
     ]
    }
   ],
   "source": [
    "#Look at the data types\n",
    "df.info()"
   ]
  },
  {
   "cell_type": "markdown",
   "metadata": {},
   "source": [
    "**We are able to find three different datatypes as**\n",
    "- 2 columns with float64\n",
    "- 5 columns with int64\n",
    "- 5 columns with object \n",
    "\n",
    "*Gender* & *City_Category* are categorical (Nominal) variables,\n",
    "*Age* column has values in grouped manner.\n",
    "we need to preprocess them, which we can see in the later section\n",
    "\n"
   ]
  },
  {
   "cell_type": "markdown",
   "metadata": {},
   "source": [
    "> *#2 Quick Insights on the* **data types** \n",
    ">\n",
    "> The Data types are classified into two as **Quantitative** and **Categorical**\n",
    "> **Quantitative** data takes on numeric values that allow us to perform mathematical operations (like the number of dogs).\n",
    "> **Categorical** are used to label a group or set of items (like dog breeds - Collies, Labs, Poodles, etc.).\n",
    ">\n",
    "> Categorical Ordinal vs. Categorical Nominal\n",
    "> We can divide **categorical** data further into two types: **Ordinal** and **Nominal**.\n",
    "> **Categorical Ordinal** data take on a ranked ordering (like a ranked interaction on a scale from Very Poor to Very Good with the dogs).\n",
    "> **Categorical Nominal** data do not have an order or ranking (like the breeds of the dog).\n",
    ">\n",
    "> **Continuous** vs. **Discrete**\n",
    "> We can think of **quantitative** data as being either **continuous** or **discrete**.\n",
    ">Continuous data can be split into smaller and smaller units, and still a smaller unit exists. An example of this is the age of the dog - we can measure the units of the age in years, months, days, hours, seconds, but there are still smaller units that could be associated with the age.\n",
    ">Discrete data only takes on countable values. The number of dogs we interact with is an example of a discrete data type.\n",
    ">\n",
    ">More details refer [wiki](https://en.wikipedia.org/wiki/Level_of_measurement) and a very good [Medium](https://towardsdatascience.com/data-types-in-statistics-347e152e8bee) post.\n",
    "\n",
    "\n"
   ]
  },
  {
   "cell_type": "markdown",
   "metadata": {},
   "source": [
    "## Data Analysis##"
   ]
  },
  {
   "cell_type": "code",
   "execution_count": 200,
   "metadata": {},
   "outputs": [
    {
     "data": {
      "text/plain": "<AxesSubplot:>"
     },
     "execution_count": 200,
     "metadata": {},
     "output_type": "execute_result"
    },
    {
     "data": {
      "text/plain": "<Figure size 432x288 with 2 Axes>",
      "image/png": "[encoded data removed]"
     },
     "metadata": {
      "needs_background": "light"
     },
     "output_type": "display_data"
    }
   ],
   "source": [
    "sns.heatmap(df.corr(), annot = True, fmt = '.2f', cmap = 'vlag_r', center = 0)"
   ]
  },
  {
   "cell_type": "markdown",
   "metadata": {},
   "source": [
    "Product_Category_1, Product_Category_2 & Product_Category_3 correlation vale >.5 which is moderate. "
   ]
  },
  {
   "cell_type": "code",
   "execution_count": 201,
   "metadata": {},
   "outputs": [
    {
     "data": {
      "text/plain": "User_ID                            0\nProduct_ID                         0\nGender                             0\nAge                                0\nOccupation                         0\nCity_Category                      0\nStay_In_Current_City_Years         0\nMarital_Status                     0\nProduct_Category_1                 0\nProduct_Category_2            166986\nProduct_Category_3            373299\nPurchase                           0\ndtype: int64"
     },
     "execution_count": 201,
     "metadata": {},
     "output_type": "execute_result"
    }
   ],
   "source": [
    "#Insights on NaN values\n",
    "df.isnull().sum()"
   ]
  },
  {
   "cell_type": "markdown",
   "metadata": {},
   "source": [
    "we are able to see more null values in Product_Category_2 and Product_Category_3, let us check the value counts for each category."
   ]
  },
  {
   "cell_type": "code",
   "execution_count": 202,
   "metadata": {},
   "outputs": [
    {
     "data": {
      "text/plain": "5     148592\n1     138353\n8     112132\n11     23960\n2      23499\n6      20164\n3      19849\n4      11567\n16      9697\n15      6203\n13      5440\n10      5032\n12      3875\n7       3668\n18      3075\n14      1500\n17       567\n9        404\nName: Product_Category_1, dtype: int64"
     },
     "execution_count": 202,
     "metadata": {},
     "output_type": "execute_result"
    }
   ],
   "source": [
    "#Let us check the values counts on product category trend\n",
    "df[\"Product_Category_1\"].value_counts()"
   ]
  },
  {
   "cell_type": "code",
   "execution_count": 203,
   "metadata": {},
   "outputs": [
    {
     "data": {
      "text/plain": "8.0     63058\n14.0    54158\n2.0     48481\n16.0    42602\n15.0    37317\n5.0     25874\n4.0     25225\n6.0     16251\n11.0    13945\n17.0    13130\n13.0    10369\n9.0      5591\n12.0     5419\n10.0     2991\n3.0      2835\n18.0     2730\n7.0       615\nName: Product_Category_2, dtype: int64"
     },
     "execution_count": 203,
     "metadata": {},
     "output_type": "execute_result"
    }
   ],
   "source": [
    "df[\"Product_Category_2\"].value_counts()"
   ]
  },
  {
   "cell_type": "code",
   "execution_count": 204,
   "metadata": {},
   "outputs": [
    {
     "data": {
      "text/plain": "16.0    32148\n15.0    27611\n14.0    18121\n17.0    16449\n5.0     16380\n8.0     12384\n9.0     11414\n12.0     9094\n13.0     5385\n6.0      4818\n18.0     4563\n4.0      1840\n11.0     1773\n10.0     1698\n3.0       600\nName: Product_Category_3, dtype: int64"
     },
     "execution_count": 204,
     "metadata": {},
     "output_type": "execute_result"
    }
   ],
   "source": [
    "df[\"Product_Category_3\"].value_counts()"
   ]
  },
  {
   "cell_type": "code",
   "execution_count": 205,
   "metadata": {},
   "outputs": [],
   "source": [
    "# Deep copy the original data frame, so that changes made in copy will not impact the original version\n",
    "df_copy = df.copy()\n"
   ]
  },
  {
   "cell_type": "code",
   "execution_count": 206,
   "metadata": {},
   "outputs": [
    {
     "name": "stdout",
     "output_type": "stream",
     "text": [
      "Shape of Original df:(537577, 12)\n",
      "Shape of Copy df_copy:(537577, 12)\n"
     ]
    }
   ],
   "source": [
    "print (\"Shape of Original df:{}\".format(df.shape))\n",
    "print (\"Shape of Copy df_copy:{}\".format(df_copy.shape))"
   ]
  },
  {
   "cell_type": "markdown",
   "metadata": {},
   "source": [
    "Now let us drop the Nan values in the copied dataframe to see how much data loss we have"
   ]
  },
  {
   "cell_type": "code",
   "execution_count": 207,
   "metadata": {},
   "outputs": [],
   "source": [
    "df_copy.dropna(inplace=True)"
   ]
  },
  {
   "cell_type": "code",
   "execution_count": 208,
   "metadata": {},
   "outputs": [
    {
     "name": "stdout",
     "output_type": "stream",
     "text": [
      "Shape of Original df:(537577, 12)\n",
      "Shape of Copy df_copy:(164278, 12)\n"
     ]
    }
   ],
   "source": [
    "print (\"Shape of Original df:{}\".format(df.shape))\n",
    "print (\"Shape of Copy df_copy:{}\".format(df_copy.shape))"
   ]
  },
  {
   "cell_type": "code",
   "execution_count": 209,
   "metadata": {},
   "outputs": [
    {
     "data": {
      "text/plain": "   Product_ID  Product_Category_1  Product_Category_2  Product_Category_3\n1   P00248942                   1                 6.0                14.0\n6   P00184942                   1                 8.0                17.0\n13  P00145042                   1                 2.0                 5.0\n14  P00231342                   5                 8.0                14.0\n16   P0096642                   2                 3.0                 4.0",
      "text/html": "<div>\n<style scoped>\n    .dataframe tbody tr th:only-of-type {\n        vertical-align: middle;\n    }\n\n    .dataframe tbody tr th {\n        vertical-align: top;\n    }\n\n    .dataframe thead th {\n        text-align: right;\n    }\n</style>\n<table border=\"1\" class=\"dataframe\">\n  <thead>\n    <tr style=\"text-align: right;\">\n      <th></th>\n      <th>Product_ID</th>\n      <th>Product_Category_1</th>\n      <th>Product_Category_2</th>\n      <th>Product_Category_3</th>\n    </tr>\n  </thead>\n  <tbody>\n    <tr>\n      <th>1</th>\n      <td>P00248942</td>\n      <td>1</td>\n      <td>6.0</td>\n      <td>14.0</td>\n    </tr>\n    <tr>\n      <th>6</th>\n      <td>P00184942</td>\n      <td>1</td>\n      <td>8.0</td>\n      <td>17.0</td>\n    </tr>\n    <tr>\n      <th>13</th>\n      <td>P00145042</td>\n      <td>1</td>\n      <td>2.0</td>\n      <td>5.0</td>\n    </tr>\n    <tr>\n      <th>14</th>\n      <td>P00231342</td>\n      <td>5</td>\n      <td>8.0</td>\n      <td>14.0</td>\n    </tr>\n    <tr>\n      <th>16</th>\n      <td>P0096642</td>\n      <td>2</td>\n      <td>3.0</td>\n      <td>4.0</td>\n    </tr>\n  </tbody>\n</table>\n</div>"
     },
     "execution_count": 209,
     "metadata": {},
     "output_type": "execute_result"
    }
   ],
   "source": [
    "df_copy[[\"Product_ID\",\"Product_Category_1\",\"Product_Category_2\",\"Product_Category_3\"]].head()"
   ]
  },
  {
   "cell_type": "code",
   "execution_count": 210,
   "metadata": {},
   "outputs": [
    {
     "name": "stdout",
     "output_type": "stream",
     "text": [
      "Shape of the original data set : (537577, 12)\n",
      "Shape of the NaN removed data set : (164278, 12)\n"
     ]
    }
   ],
   "source": [
    "print(\"Shape of the original data set : {}\".format(df.shape))\n",
    "print(\"Shape of the NaN removed data set : {}\".format(df_copy.shape))"
   ]
  },
  {
   "cell_type": "code",
   "execution_count": 211,
   "metadata": {},
   "outputs": [
    {
     "name": "stdout",
     "output_type": "stream",
     "text": [
      "Propotion of missing values in df :0.69\n"
     ]
    }
   ],
   "source": [
    "#df_copy.dropna().shape[0]/df_copy.shape[0]\n",
    "print (\"Propotion of missing values in df :{0:.2f}\".format((df.shape[0] - df_copy.shape[0])/df.shape[0]))\n"
   ]
  },
  {
   "cell_type": "markdown",
   "metadata": {},
   "source": [
    "**Removing the NaN values is resulting in loss of 70% data in the data set**. This results in *bias-ed* model causing the model to be underfit.\n",
    "\n",
    "The available alternate approaches are imputing the missing values with mean, mode or fill with 0. \n",
    "since the Product_Catgeory_2 & Product_Catgeory_3 coulmns are interlinked with values present in Product_Catgeory_1, hence imputing with mean/mode is not a good strategy, hence we will fill the Nan values with 0."
   ]
  },
  {
   "cell_type": "code",
   "execution_count": null,
   "metadata": {
    "pycharm": {
     "is_executing": true
    }
   },
   "outputs": [],
   "source": [
    "#Fill na with Zero\n",
    "df.fillna(0, inplace=True)"
   ]
  },
  {
   "cell_type": "code",
   "execution_count": null,
   "metadata": {
    "pycharm": {
     "is_executing": true
    }
   },
   "outputs": [],
   "source": [
    "df.isnull().sum()"
   ]
  },
  {
   "cell_type": "markdown",
   "metadata": {},
   "source": [
    "There is no NaN values in the dataset, which is ready for further analysis now !!!"
   ]
  },
  {
   "cell_type": "markdown",
   "metadata": {},
   "source": [
    "## Data Analysis ## \n",
    "\n",
    "Lets us get the insights for our questions from now ! \n",
    "Let us create few function to make our life simple. "
   ]
  },
  {
   "cell_type": "code",
   "execution_count": null,
   "metadata": {
    "pycharm": {
     "is_executing": true
    }
   },
   "outputs": [],
   "source": [
    "#Let us create a function to plot this\n",
    "def count_plot(dataframe, column_name, title =None, hue = None):\n",
    "    '''\n",
    "    Function to plot seaborn count plot\n",
    "    Input: Dataframe name that has to be plotted, column_name that has to be plotted, title for the graph\n",
    "    Output: Plot the data as a count plot\n",
    "    '''\n",
    "    base_color = sns.color_palette()[0]\n",
    "    sns.countplot(data = dataframe, x = column_name, hue=hue)\n",
    "    plt.title(title)\n",
    "    pass\n"
   ]
  },
  {
   "cell_type": "code",
   "execution_count": null,
   "metadata": {
    "pycharm": {
     "is_executing": true
    }
   },
   "outputs": [],
   "source": [
    "#let us create an quick & simple bar plot based on pandos plot method\n",
    "def simple_bar_plot(data, title = None):\n",
    "    '''\n",
    "    A simple bar plot based on pandas plot method\n",
    "    Input: data to be plotted and title for the plot\n",
    "    Output: the plotled graph\n",
    "    '''\n",
    "    data.plot(kind=\"bar\", title=title)\n",
    "    pass"
   ]
  },
  {
   "cell_type": "code",
   "execution_count": null,
   "metadata": {
    "pycharm": {
     "is_executing": true
    }
   },
   "outputs": [],
   "source": [
    "#Let us create class handler to get the legend displayed in the plot\n",
    "class TextHandler(HandlerBase):\n",
    "    def create_artists(self, legend, tup ,xdescent, ydescent,\n",
    "                        width, height, fontsize,trans):\n",
    "        '''\n",
    "        Function to display legend for a plot\n",
    "        Input: legend, tuple string, placement of x and y descent, width and hight, font for the legend\n",
    "        Output: retuns the text for legend        \n",
    "        '''\n",
    "        tx = Text(width/2.,height/2,tup[0], fontsize=fontsize,\n",
    "                  ha=\"center\", va=\"center\", color=tup[1], fontweight=\"bold\")\n",
    "        return [tx]\n"
   ]
  },
  {
   "cell_type": "markdown",
   "metadata": {},
   "source": [
    "**1. What all are the products, that have been purchased the most?**"
   ]
  },
  {
   "cell_type": "code",
   "execution_count": null,
   "metadata": {
    "pycharm": {
     "is_executing": true
    }
   },
   "outputs": [],
   "source": [
    "#top 10 poducts sold\n",
    "df[\"Product_ID\"].value_counts(sort=True)[:10]"
   ]
  },
  {
   "cell_type": "code",
   "execution_count": null,
   "metadata": {
    "pycharm": {
     "is_executing": true
    }
   },
   "outputs": [],
   "source": [
    "#plotting the top 1- products sold\n",
    "simple_bar_plot(df[\"Product_ID\"].value_counts(sort=True)[:10], title = \"Top 10 products sold\")"
   ]
  },
  {
   "cell_type": "markdown",
   "metadata": {},
   "source": [
    "As we can see above the top 10 products are sold more than 1200 in quantity, we dont have the products description in the data set to get more details of the product. But let us see what all product category that interested the people."
   ]
  },
  {
   "cell_type": "markdown",
   "metadata": {},
   "source": [
    "**2. Which product category has been sold the maximum?**"
   ]
  },
  {
   "cell_type": "code",
   "execution_count": null,
   "metadata": {
    "pycharm": {
     "is_executing": true
    }
   },
   "outputs": [],
   "source": [
    "#plotting the product category\n",
    "simple_bar_plot(df[\"Product_Category_1\"].value_counts(sort=True)[:10], \n",
    "                title = \"Top 10 Product Category of people interested\")"
   ]
  },
  {
   "cell_type": "markdown",
   "metadata": {},
   "source": [
    "The Product categories 5, 1 & 8 are sold more than 100K. In other hand the categories 11, 2, 6 & 3 have sold upto 20K. \n",
    "we can see a huge gap between the top 3 and rest of the categories. We don't have descriptions of the categories to nail down further. It would have been better if we had description of these categories to understand interest of the people. "
   ]
  },
  {
   "cell_type": "markdown",
   "metadata": {},
   "source": [
    "**3. Men or Women, who are likely to spend more in Black Friday Sales?**\n"
   ]
  },
  {
   "cell_type": "code",
   "execution_count": null,
   "metadata": {
    "pycharm": {
     "is_executing": true
    }
   },
   "outputs": [],
   "source": [
    "#Check who purchase more\n",
    "count_plot(df,\"Gender\",\"Men or Women spent more ?\",\"Gender\")"
   ]
  },
  {
   "cell_type": "markdown",
   "metadata": {},
   "source": [
    "Hmmmm !!! bit disappointed as my guess was Women !!\n",
    "The plot show that men spent a lot in the black friday sales. But it might be in other way, as women purchased lot and made their spouse pay the bills. \n",
    "Let us deep dive more to understand on marital status of the buyers. "
   ]
  },
  {
   "cell_type": "markdown",
   "metadata": {},
   "source": [
    "**4. Married or Individuals, who spends more?** \n"
   ]
  },
  {
   "cell_type": "code",
   "execution_count": null,
   "metadata": {
    "pycharm": {
     "is_executing": true
    }
   },
   "outputs": [],
   "source": [
    "#Let che\n",
    "count_plot(df,\"Marital_Status\",\"Marital Status of Buyers\")"
   ]
  },
  {
   "cell_type": "markdown",
   "metadata": {},
   "source": [
    "The Plot above is with value of 0 & 1, which doesn't make sense. Let us re plot with the same with proper legend."
   ]
  },
  {
   "cell_type": "code",
   "execution_count": null,
   "metadata": {
    "pycharm": {
     "is_executing": true
    }
   },
   "outputs": [],
   "source": [
    "ax=sns.countplot(df.Marital_Status) \n",
    "#creating the mapping text for the values\n",
    "handltext = [\"0\", \"1\"]\n",
    "labels = [\"Individual\", \"Married\"]\n",
    "#get the X axis tick labels\n",
    "t = ax.get_xticklabels()\n",
    "#map the x values as key and values\n",
    "labeldic = dict(zip(handltext, labels))\n",
    "labels = [labeldic[h.get_text()]  for h in t]\n",
    "handles = [(h.get_text(),c.get_fc()) for h,c in zip(t,ax.patches)]\n",
    "ax.legend(handles, labels, handler_map={tuple : TextHandler()}) \n",
    "plt.title(\"Marital Status of the Buyers\")\n",
    "plt.show()\n"
   ]
  },
  {
   "cell_type": "markdown",
   "metadata": {},
   "source": [
    "**5. Which age group has more interest in these type of sales?**"
   ]
  },
  {
   "cell_type": "code",
   "execution_count": null,
   "metadata": {
    "pycharm": {
     "is_executing": true
    }
   },
   "outputs": [],
   "source": [
    "#we need to look the value counts of the age column\n",
    "df.Age.value_counts()\n"
   ]
  },
  {
   "cell_type": "code",
   "execution_count": null,
   "metadata": {
    "pycharm": {
     "is_executing": true
    }
   },
   "outputs": [],
   "source": [
    "#sns.countplot(df['Age'])\n",
    "count_plot(df,\"Age\",\"Age Group of Buyers\")"
   ]
  },
  {
   "cell_type": "markdown",
   "metadata": {},
   "source": [
    "The Majority of users are from age group of 26-35\n",
    "Further, I could also check among the age groups, which gender was a majority by adding a hue. And as seen below, more males spent in the sale than females."
   ]
  },
  {
   "cell_type": "code",
   "execution_count": null,
   "metadata": {
    "pycharm": {
     "is_executing": true
    }
   },
   "outputs": [],
   "source": [
    "count_plot(df,\"Age\",\"Age Group vs Marital Status\", \"Gender\")"
   ]
  },
  {
   "cell_type": "markdown",
   "metadata": {},
   "source": [
    "One Lastthing, let us check Age group vs Marital status of indvidual along with their Gender. Like Grouping the buyers in age group, also I need to see either it is Male or Female and interested see their marital status. \n",
    "\n",
    "To achieve this we need to create a new combined feature, combining the Gender & Marital Status. later we can compare that with Age group. "
   ]
  },
  {
   "cell_type": "code",
   "execution_count": null,
   "metadata": {
    "pycharm": {
     "is_executing": true
    }
   },
   "outputs": [],
   "source": [
    "df['combined_G_M'] = df.apply(lambda x:'%s_%s' % (x['Gender'],x['Marital_Status']),axis=1)\n",
    "print(df['combined_G_M'].unique())"
   ]
  },
  {
   "cell_type": "code",
   "execution_count": null,
   "metadata": {
    "pycharm": {
     "is_executing": true
    }
   },
   "outputs": [],
   "source": [
    "#\n",
    "count_plot(df,\"Age\",\"Age vs Gender vs Marital Status\", \"combined_G_M\")"
   ]
  },
  {
   "cell_type": "markdown",
   "metadata": {},
   "source": [
    "As we see above, there are no bars for the married in the 0-17 range which makes sense. \n",
    "And then if we look at the 46 and above groups, females are very less. But on the other hand, married males paying in range 46-55 are also comparatively more than married females. So it could also imply that though ladies do shop a lot, their spouses are possibly paying for it and hence data reflects that men shopped more. If we had more categorical data defining what kind of products were purchased by men, we could dig in this statement further. However, since in this dataset we don't know if there is a category that implies feminine products/clothes we cannot further explore this case."
   ]
  },
  {
   "cell_type": "code",
   "execution_count": null,
   "metadata": {
    "pycharm": {
     "is_executing": true
    }
   },
   "outputs": [],
   "source": []
  },
  {
   "cell_type": "code",
   "execution_count": null,
   "metadata": {
    "pycharm": {
     "is_executing": true
    }
   },
   "outputs": [],
   "source": []
  },
  {
   "cell_type": "code",
   "execution_count": null,
   "metadata": {
    "pycharm": {
     "is_executing": true
    }
   },
   "outputs": [],
   "source": []
  }
 ],
 "metadata": {
  "kernelspec": {
   "display_name": "Python 3",
   "language": "python",
   "name": "python3"
  },
  "language_info": {
   "codemirror_mode": {
    "name": "ipython",
    "version": 3
   },
   "file_extension": ".py",
   "mimetype": "text/x-python",
   "name": "python",
   "nbconvert_exporter": "python",
   "pygments_lexer": "ipython3",
   "version": "3.9.1"
  }
 },
 "nbformat": 4,
 "nbformat_minor": 2
}